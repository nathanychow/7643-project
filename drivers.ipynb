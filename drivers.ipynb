{
  "nbformat": 4,
  "nbformat_minor": 0,
  "metadata": {
    "colab": {
      "name": "drivers.ipynb",
      "provenance": [],
      "authorship_tag": "ABX9TyOkOINko193KucE9fsKxiTM",
      "include_colab_link": true
    },
    "kernelspec": {
      "name": "python3",
      "display_name": "Python 3"
    },
    "language_info": {
      "name": "python"
    }
  },
  "cells": [
    {
      "cell_type": "markdown",
      "metadata": {
        "id": "view-in-github",
        "colab_type": "text"
      },
      "source": [
        "<a href=\"https://colab.research.google.com/github/nathanychow/7643-project/blob/master/drivers.ipynb\" target=\"_parent\"><img src=\"https://colab.research.google.com/assets/colab-badge.svg\" alt=\"Open In Colab\"/></a>"
      ]
    },
    {
      "cell_type": "code",
      "metadata": {
        "id": "K7MdPCeq-L0U",
        "outputId": "ff3c209a-2265-464a-8b44-af90d5118bac",
        "colab": {
          "base_uri": "https://localhost:8080/"
        }
      },
      "source": [
        "from google.colab import drive\n",
        "drive.mount('/content/drive')"
      ],
      "execution_count": 1,
      "outputs": [
        {
          "output_type": "stream",
          "name": "stdout",
          "text": [
            "Mounted at /content/drive\n"
          ]
        }
      ]
    },
    {
      "cell_type": "code",
      "metadata": {
        "id": "EF4-iE7CWVOL",
        "outputId": "fd908b60-0c7d-41ee-8814-1c459c69f349",
        "colab": {
          "base_uri": "https://localhost:8080/"
        }
      },
      "source": [
        "%cd /content/drive/MyDrive/\n",
        "!ls"
      ],
      "execution_count": 2,
      "outputs": [
        {
          "output_type": "stream",
          "name": "stdout",
          "text": [
            "/content/drive/MyDrive\n",
            "configs  DriversDataset.py  Kaggle  main.py  models\n"
          ]
        }
      ]
    },
    {
      "cell_type": "code",
      "metadata": {
        "id": "r35DeRcmWvp5",
        "outputId": "7b4694f6-4865-48ac-cc0d-7ebe3778c576",
        "colab": {
          "base_uri": "https://localhost:8080/"
        }
      },
      "source": [
        "%cd /content/drive/MyDrive/Kaggle/imgs"
      ],
      "execution_count": 4,
      "outputs": [
        {
          "output_type": "stream",
          "name": "stdout",
          "text": [
            "/content/drive/MyDrive/Kaggle/imgs\n"
          ]
        }
      ]
    },
    {
      "cell_type": "code",
      "metadata": {
        "id": "k_YSLEMVYt3t"
      },
      "source": [
        "import os\n",
        "import zipfile\n",
        "zf = zipfile.ZipFile(\"train.zip\")\n",
        "zf.extractall()"
      ],
      "execution_count": null,
      "outputs": []
    },
    {
      "cell_type": "code",
      "metadata": {
        "id": "jRNCoyK1WdbA"
      },
      "source": [
        "!python main.py --configs configs/config_mymodel.yaml --annotations_file = \"./Kaggle/\""
      ],
      "execution_count": null,
      "outputs": []
    }
  ]
}